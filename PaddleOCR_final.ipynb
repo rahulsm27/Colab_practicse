{
  "nbformat": 4,
  "nbformat_minor": 0,
  "metadata": {
    "colab": {
      "provenance": [],
      "authorship_tag": "ABX9TyNjewaI5StfEyWWCPEHGpjX",
      "include_colab_link": true
    },
    "kernelspec": {
      "name": "python3",
      "display_name": "Python 3"
    },
    "language_info": {
      "name": "python"
    }
  },
  "cells": [
    {
      "cell_type": "markdown",
      "metadata": {
        "id": "view-in-github",
        "colab_type": "text"
      },
      "source": [
        "<a href=\"https://colab.research.google.com/github/rahulsm27/Colab_practicse/blob/main/PaddleOCR_final.ipynb\" target=\"_parent\"><img src=\"https://colab.research.google.com/assets/colab-badge.svg\" alt=\"Open In Colab\"/></a>"
      ]
    },
    {
      "cell_type": "code",
      "source": [
        "!git clone https://github.com/PaddlePaddle/PaddleOCR.git"
      ],
      "metadata": {
        "colab": {
          "base_uri": "https://localhost:8080/"
        },
        "id": "dphIGcqSTZzR",
        "outputId": "9d27f8aa-b15a-4010-87d7-98e8cf6e0c02"
      },
      "execution_count": 1,
      "outputs": [
        {
          "output_type": "stream",
          "name": "stdout",
          "text": [
            "Cloning into 'PaddleOCR'...\n",
            "remote: Enumerating objects: 47838, done.\u001b[K\n",
            "remote: Counting objects: 100% (189/189), done.\u001b[K\n",
            "remote: Compressing objects: 100% (151/151), done.\u001b[K\n",
            "remote: Total 47838 (delta 67), reused 119 (delta 34), pack-reused 47649\u001b[K\n",
            "Receiving objects: 100% (47838/47838), 345.48 MiB | 23.03 MiB/s, done.\n",
            "Resolving deltas: 100% (33571/33571), done.\n",
            "Updating files: 100% (1892/1892), done.\n"
          ]
        }
      ]
    },
    {
      "cell_type": "code",
      "source": [
        "%cd PaddleOCR\n",
        "!pip3 install -r requirements.txt"
      ],
      "metadata": {
        "colab": {
          "base_uri": "https://localhost:8080/"
        },
        "id": "QbZ0don5fVko",
        "outputId": "1e2a9469-1a8a-4f6f-ab52-7e0df7e1bcf4"
      },
      "execution_count": 2,
      "outputs": [
        {
          "output_type": "stream",
          "name": "stdout",
          "text": [
            "/content/PaddleOCR\n",
            "Requirement already satisfied: shapely in /usr/local/lib/python3.10/dist-packages (from -r requirements.txt (line 1)) (2.0.3)\n",
            "Requirement already satisfied: scikit-image in /usr/local/lib/python3.10/dist-packages (from -r requirements.txt (line 2)) (0.19.3)\n",
            "Requirement already satisfied: imgaug in /usr/local/lib/python3.10/dist-packages (from -r requirements.txt (line 3)) (0.4.0)\n",
            "Requirement already satisfied: pyclipper in /usr/local/lib/python3.10/dist-packages (from -r requirements.txt (line 4)) (1.3.0.post5)\n",
            "Requirement already satisfied: lmdb in /usr/local/lib/python3.10/dist-packages (from -r requirements.txt (line 5)) (1.4.1)\n",
            "Requirement already satisfied: tqdm in /usr/local/lib/python3.10/dist-packages (from -r requirements.txt (line 6)) (4.66.2)\n",
            "Requirement already satisfied: numpy in /usr/local/lib/python3.10/dist-packages (from -r requirements.txt (line 7)) (1.25.2)\n",
            "Requirement already satisfied: visualdl in /usr/local/lib/python3.10/dist-packages (from -r requirements.txt (line 8)) (2.5.3)\n",
            "Requirement already satisfied: rapidfuzz in /usr/local/lib/python3.10/dist-packages (from -r requirements.txt (line 9)) (3.6.2)\n",
            "Requirement already satisfied: opencv-python<=4.6.0.66 in /usr/local/lib/python3.10/dist-packages (from -r requirements.txt (line 10)) (4.6.0.66)\n",
            "Requirement already satisfied: opencv-contrib-python<=4.6.0.66 in /usr/local/lib/python3.10/dist-packages (from -r requirements.txt (line 11)) (4.6.0.66)\n",
            "Requirement already satisfied: cython in /usr/local/lib/python3.10/dist-packages (from -r requirements.txt (line 12)) (3.0.9)\n",
            "Requirement already satisfied: lxml in /usr/local/lib/python3.10/dist-packages (from -r requirements.txt (line 13)) (4.9.4)\n",
            "Requirement already satisfied: premailer in /usr/local/lib/python3.10/dist-packages (from -r requirements.txt (line 14)) (3.10.0)\n",
            "Requirement already satisfied: openpyxl in /usr/local/lib/python3.10/dist-packages (from -r requirements.txt (line 15)) (3.1.2)\n",
            "Requirement already satisfied: attrdict in /usr/local/lib/python3.10/dist-packages (from -r requirements.txt (line 16)) (2.0.1)\n",
            "Requirement already satisfied: Pillow>=10.0.0 in /usr/local/lib/python3.10/dist-packages (from -r requirements.txt (line 17)) (10.0.1)\n",
            "Requirement already satisfied: pyyaml in /usr/local/lib/python3.10/dist-packages (from -r requirements.txt (line 18)) (6.0.1)\n",
            "Requirement already satisfied: scipy>=1.4.1 in /usr/local/lib/python3.10/dist-packages (from scikit-image->-r requirements.txt (line 2)) (1.11.4)\n",
            "Requirement already satisfied: networkx>=2.2 in /usr/local/lib/python3.10/dist-packages (from scikit-image->-r requirements.txt (line 2)) (3.2.1)\n",
            "Requirement already satisfied: imageio>=2.4.1 in /usr/local/lib/python3.10/dist-packages (from scikit-image->-r requirements.txt (line 2)) (2.31.6)\n",
            "Requirement already satisfied: tifffile>=2019.7.26 in /usr/local/lib/python3.10/dist-packages (from scikit-image->-r requirements.txt (line 2)) (2024.2.12)\n",
            "Requirement already satisfied: PyWavelets>=1.1.1 in /usr/local/lib/python3.10/dist-packages (from scikit-image->-r requirements.txt (line 2)) (1.5.0)\n",
            "Requirement already satisfied: packaging>=20.0 in /usr/local/lib/python3.10/dist-packages (from scikit-image->-r requirements.txt (line 2)) (24.0)\n",
            "Requirement already satisfied: six in /usr/local/lib/python3.10/dist-packages (from imgaug->-r requirements.txt (line 3)) (1.16.0)\n",
            "Requirement already satisfied: matplotlib in /usr/local/lib/python3.10/dist-packages (from imgaug->-r requirements.txt (line 3)) (3.7.1)\n",
            "Requirement already satisfied: bce-python-sdk in /usr/local/lib/python3.10/dist-packages (from visualdl->-r requirements.txt (line 8)) (0.9.5)\n",
            "Requirement already satisfied: flask>=1.1.1 in /usr/local/lib/python3.10/dist-packages (from visualdl->-r requirements.txt (line 8)) (2.2.5)\n",
            "Requirement already satisfied: Flask-Babel>=3.0.0 in /usr/local/lib/python3.10/dist-packages (from visualdl->-r requirements.txt (line 8)) (4.0.0)\n",
            "Requirement already satisfied: protobuf>=3.20.0 in /usr/local/lib/python3.10/dist-packages (from visualdl->-r requirements.txt (line 8)) (3.20.3)\n",
            "Requirement already satisfied: requests in /usr/local/lib/python3.10/dist-packages (from visualdl->-r requirements.txt (line 8)) (2.31.0)\n",
            "Requirement already satisfied: pandas in /usr/local/lib/python3.10/dist-packages (from visualdl->-r requirements.txt (line 8)) (1.5.3)\n",
            "Requirement already satisfied: rarfile in /usr/local/lib/python3.10/dist-packages (from visualdl->-r requirements.txt (line 8)) (4.1)\n",
            "Requirement already satisfied: psutil in /usr/local/lib/python3.10/dist-packages (from visualdl->-r requirements.txt (line 8)) (5.9.5)\n",
            "Requirement already satisfied: cssselect in /usr/local/lib/python3.10/dist-packages (from premailer->-r requirements.txt (line 14)) (1.2.0)\n",
            "Requirement already satisfied: cssutils in /usr/local/lib/python3.10/dist-packages (from premailer->-r requirements.txt (line 14)) (2.9.0)\n",
            "Requirement already satisfied: cachetools in /usr/local/lib/python3.10/dist-packages (from premailer->-r requirements.txt (line 14)) (5.3.3)\n",
            "Requirement already satisfied: et-xmlfile in /usr/local/lib/python3.10/dist-packages (from openpyxl->-r requirements.txt (line 15)) (1.1.0)\n",
            "Requirement already satisfied: Werkzeug>=2.2.2 in /usr/local/lib/python3.10/dist-packages (from flask>=1.1.1->visualdl->-r requirements.txt (line 8)) (3.0.1)\n",
            "Requirement already satisfied: Jinja2>=3.0 in /usr/local/lib/python3.10/dist-packages (from flask>=1.1.1->visualdl->-r requirements.txt (line 8)) (3.1.3)\n",
            "Requirement already satisfied: itsdangerous>=2.0 in /usr/local/lib/python3.10/dist-packages (from flask>=1.1.1->visualdl->-r requirements.txt (line 8)) (2.1.2)\n",
            "Requirement already satisfied: click>=8.0 in /usr/local/lib/python3.10/dist-packages (from flask>=1.1.1->visualdl->-r requirements.txt (line 8)) (8.1.7)\n",
            "Requirement already satisfied: Babel>=2.12 in /usr/local/lib/python3.10/dist-packages (from Flask-Babel>=3.0.0->visualdl->-r requirements.txt (line 8)) (2.14.0)\n",
            "Requirement already satisfied: pytz>=2022.7 in /usr/local/lib/python3.10/dist-packages (from Flask-Babel>=3.0.0->visualdl->-r requirements.txt (line 8)) (2023.4)\n",
            "Requirement already satisfied: pycryptodome>=3.8.0 in /usr/local/lib/python3.10/dist-packages (from bce-python-sdk->visualdl->-r requirements.txt (line 8)) (3.20.0)\n",
            "Requirement already satisfied: future>=0.6.0 in /usr/local/lib/python3.10/dist-packages (from bce-python-sdk->visualdl->-r requirements.txt (line 8)) (0.18.3)\n",
            "Requirement already satisfied: contourpy>=1.0.1 in /usr/local/lib/python3.10/dist-packages (from matplotlib->imgaug->-r requirements.txt (line 3)) (1.2.0)\n",
            "Requirement already satisfied: cycler>=0.10 in /usr/local/lib/python3.10/dist-packages (from matplotlib->imgaug->-r requirements.txt (line 3)) (0.12.1)\n",
            "Requirement already satisfied: fonttools>=4.22.0 in /usr/local/lib/python3.10/dist-packages (from matplotlib->imgaug->-r requirements.txt (line 3)) (4.50.0)\n",
            "Requirement already satisfied: kiwisolver>=1.0.1 in /usr/local/lib/python3.10/dist-packages (from matplotlib->imgaug->-r requirements.txt (line 3)) (1.4.5)\n",
            "Requirement already satisfied: pyparsing>=2.3.1 in /usr/local/lib/python3.10/dist-packages (from matplotlib->imgaug->-r requirements.txt (line 3)) (3.1.2)\n",
            "Requirement already satisfied: python-dateutil>=2.7 in /usr/local/lib/python3.10/dist-packages (from matplotlib->imgaug->-r requirements.txt (line 3)) (2.8.2)\n",
            "Requirement already satisfied: charset-normalizer<4,>=2 in /usr/local/lib/python3.10/dist-packages (from requests->visualdl->-r requirements.txt (line 8)) (3.3.2)\n",
            "Requirement already satisfied: idna<4,>=2.5 in /usr/local/lib/python3.10/dist-packages (from requests->visualdl->-r requirements.txt (line 8)) (3.6)\n",
            "Requirement already satisfied: urllib3<3,>=1.21.1 in /usr/local/lib/python3.10/dist-packages (from requests->visualdl->-r requirements.txt (line 8)) (2.0.7)\n",
            "Requirement already satisfied: certifi>=2017.4.17 in /usr/local/lib/python3.10/dist-packages (from requests->visualdl->-r requirements.txt (line 8)) (2024.2.2)\n",
            "Requirement already satisfied: MarkupSafe>=2.0 in /usr/local/lib/python3.10/dist-packages (from Jinja2>=3.0->flask>=1.1.1->visualdl->-r requirements.txt (line 8)) (2.1.5)\n"
          ]
        }
      ]
    },
    {
      "cell_type": "code",
      "source": [
        "!python3 -m pip install paddlepaddle"
      ],
      "metadata": {
        "colab": {
          "base_uri": "https://localhost:8080/"
        },
        "id": "VaCoK7WZeQJX",
        "outputId": "30b79131-d907-4253-cd4a-0c175f703a41"
      },
      "execution_count": 2,
      "outputs": [
        {
          "output_type": "stream",
          "name": "stdout",
          "text": [
            "Collecting paddlepaddle\n",
            "  Downloading paddlepaddle-2.6.1-cp310-cp310-manylinux1_x86_64.whl (125.9 MB)\n",
            "\u001b[2K     \u001b[90m━━━━━━━━━━━━━━━━━━━━━━━━━━━━━━━━━━━━━━━━\u001b[0m \u001b[32m125.9/125.9 MB\u001b[0m \u001b[31m4.8 MB/s\u001b[0m eta \u001b[36m0:00:00\u001b[0m\n",
            "\u001b[?25hCollecting httpx (from paddlepaddle)\n",
            "  Downloading httpx-0.27.0-py3-none-any.whl (75 kB)\n",
            "\u001b[2K     \u001b[90m━━━━━━━━━━━━━━━━━━━━━━━━━━━━━━━━━━━━━━━━\u001b[0m \u001b[32m75.6/75.6 kB\u001b[0m \u001b[31m8.9 MB/s\u001b[0m eta \u001b[36m0:00:00\u001b[0m\n",
            "\u001b[?25hRequirement already satisfied: numpy>=1.13 in /usr/local/lib/python3.10/dist-packages (from paddlepaddle) (1.25.2)\n",
            "Requirement already satisfied: Pillow in /usr/local/lib/python3.10/dist-packages (from paddlepaddle) (9.4.0)\n",
            "Requirement already satisfied: decorator in /usr/local/lib/python3.10/dist-packages (from paddlepaddle) (4.4.2)\n",
            "Collecting astor (from paddlepaddle)\n",
            "  Downloading astor-0.8.1-py2.py3-none-any.whl (27 kB)\n",
            "Requirement already satisfied: opt-einsum==3.3.0 in /usr/local/lib/python3.10/dist-packages (from paddlepaddle) (3.3.0)\n",
            "Requirement already satisfied: protobuf>=3.20.2 in /usr/local/lib/python3.10/dist-packages (from paddlepaddle) (3.20.3)\n",
            "Requirement already satisfied: anyio in /usr/local/lib/python3.10/dist-packages (from httpx->paddlepaddle) (3.7.1)\n",
            "Requirement already satisfied: certifi in /usr/local/lib/python3.10/dist-packages (from httpx->paddlepaddle) (2024.2.2)\n",
            "Collecting httpcore==1.* (from httpx->paddlepaddle)\n",
            "  Downloading httpcore-1.0.4-py3-none-any.whl (77 kB)\n",
            "\u001b[2K     \u001b[90m━━━━━━━━━━━━━━━━━━━━━━━━━━━━━━━━━━━━━━━━\u001b[0m \u001b[32m77.8/77.8 kB\u001b[0m \u001b[31m9.1 MB/s\u001b[0m eta \u001b[36m0:00:00\u001b[0m\n",
            "\u001b[?25hRequirement already satisfied: idna in /usr/local/lib/python3.10/dist-packages (from httpx->paddlepaddle) (3.6)\n",
            "Requirement already satisfied: sniffio in /usr/local/lib/python3.10/dist-packages (from httpx->paddlepaddle) (1.3.1)\n",
            "Collecting h11<0.15,>=0.13 (from httpcore==1.*->httpx->paddlepaddle)\n",
            "  Downloading h11-0.14.0-py3-none-any.whl (58 kB)\n",
            "\u001b[2K     \u001b[90m━━━━━━━━━━━━━━━━━━━━━━━━━━━━━━━━━━━━━━━━\u001b[0m \u001b[32m58.3/58.3 kB\u001b[0m \u001b[31m6.6 MB/s\u001b[0m eta \u001b[36m0:00:00\u001b[0m\n",
            "\u001b[?25hRequirement already satisfied: exceptiongroup in /usr/local/lib/python3.10/dist-packages (from anyio->httpx->paddlepaddle) (1.2.0)\n",
            "Installing collected packages: h11, astor, httpcore, httpx, paddlepaddle\n",
            "Successfully installed astor-0.8.1 h11-0.14.0 httpcore-1.0.4 httpx-0.27.0 paddlepaddle-2.6.1\n"
          ]
        }
      ]
    },
    {
      "cell_type": "code",
      "source": [
        "!pip install pyclipper\n",
        "!pip install lmdb"
      ],
      "metadata": {
        "colab": {
          "base_uri": "https://localhost:8080/"
        },
        "id": "YHkQq7ROevTx",
        "outputId": "ef38a681-d9e3-48a0-df81-78d9b4bf1717"
      },
      "execution_count": 16,
      "outputs": [
        {
          "output_type": "stream",
          "name": "stdout",
          "text": [
            "Requirement already satisfied: pyclipper in /usr/local/lib/python3.10/dist-packages (1.3.0.post5)\n",
            "Collecting lmdb\n",
            "  Downloading lmdb-1.4.1-cp310-cp310-manylinux_2_17_x86_64.manylinux2014_x86_64.whl (299 kB)\n",
            "\u001b[2K     \u001b[90m━━━━━━━━━━━━━━━━━━━━━━━━━━━━━━━━━━━━━━━━\u001b[0m \u001b[32m299.2/299.2 kB\u001b[0m \u001b[31m4.8 MB/s\u001b[0m eta \u001b[36m0:00:00\u001b[0m\n",
            "\u001b[?25hInstalling collected packages: lmdb\n",
            "Successfully installed lmdb-1.4.1\n"
          ]
        }
      ]
    },
    {
      "cell_type": "code",
      "source": [
        "file_image_path =[\"/content/image00013.jpg\",\"/content/image00016.jpg\",\"/content/image00045.jpg\",\"/content/image00046.jpg\",\"/content/image00047.jpg\"]"
      ],
      "metadata": {
        "id": "h0n-zIo5TByq"
      },
      "execution_count": 3,
      "outputs": []
    },
    {
      "cell_type": "code",
      "source": [
        "%cd /content/PaddleOCR/ppstructure\n"
      ],
      "metadata": {
        "colab": {
          "base_uri": "https://localhost:8080/"
        },
        "id": "KaaT20IfVIVn",
        "outputId": "cd3a5560-b574-4503-c12d-2f00655b51a1"
      },
      "execution_count": 4,
      "outputs": [
        {
          "output_type": "stream",
          "name": "stdout",
          "text": [
            "/content/PaddleOCR/ppstructure\n"
          ]
        }
      ]
    },
    {
      "cell_type": "code",
      "source": [
        "!pwd"
      ],
      "metadata": {
        "colab": {
          "base_uri": "https://localhost:8080/"
        },
        "id": "F_71zEnecqrf",
        "outputId": "8b038d9d-493d-4c85-f583-36cde2efcd0c"
      },
      "execution_count": 5,
      "outputs": [
        {
          "output_type": "stream",
          "name": "stdout",
          "text": [
            "/content/PaddleOCR/ppstructure\n"
          ]
        }
      ]
    },
    {
      "cell_type": "code",
      "source": [
        "# download model\n",
        "!mkdir inference"
      ],
      "metadata": {
        "id": "LCcCMTLBatn2"
      },
      "execution_count": 6,
      "outputs": []
    },
    {
      "cell_type": "code",
      "source": [
        "%cd inference"
      ],
      "metadata": {
        "colab": {
          "base_uri": "https://localhost:8080/"
        },
        "id": "w2whM8sudBgA",
        "outputId": "e8a35a47-5855-4cd7-ce21-f1d14d9a1636"
      },
      "execution_count": 7,
      "outputs": [
        {
          "output_type": "stream",
          "name": "stdout",
          "text": [
            "/content/PaddleOCR/ppstructure/inference\n"
          ]
        }
      ]
    },
    {
      "cell_type": "code",
      "source": [
        "!pwd"
      ],
      "metadata": {
        "colab": {
          "base_uri": "https://localhost:8080/"
        },
        "id": "lBVPGXi0c97s",
        "outputId": "0ae96e7f-387b-4e64-847c-71e226fa7581"
      },
      "execution_count": 8,
      "outputs": [
        {
          "output_type": "stream",
          "name": "stdout",
          "text": [
            "/content/PaddleOCR/ppstructure/inference\n"
          ]
        }
      ]
    },
    {
      "cell_type": "code",
      "source": [
        "# Download the PP-OCRv3 text detection model and unzip it\n",
        "!wget https://paddleocr.bj.bcebos.com/PP-OCRv3/english/en_PP-OCRv3_det_infer.tar && tar xf en_PP-OCRv3_det_infer.tar\n"
      ],
      "metadata": {
        "colab": {
          "base_uri": "https://localhost:8080/"
        },
        "id": "A-uE67w1atlL",
        "outputId": "a512a028-0895-4dae-9db7-4858281d1a82"
      },
      "execution_count": 9,
      "outputs": [
        {
          "output_type": "stream",
          "name": "stdout",
          "text": [
            "--2024-03-23 13:22:59--  https://paddleocr.bj.bcebos.com/PP-OCRv3/english/en_PP-OCRv3_det_infer.tar\n",
            "Resolving paddleocr.bj.bcebos.com (paddleocr.bj.bcebos.com)... 36.110.192.178, 2409:8c04:1001:1203:0:ff:b0bb:4f27\n",
            "Connecting to paddleocr.bj.bcebos.com (paddleocr.bj.bcebos.com)|36.110.192.178|:443... connected.\n",
            "HTTP request sent, awaiting response... 200 OK\n",
            "Length: 4003840 (3.8M) [application/x-tar]\n",
            "Saving to: ‘en_PP-OCRv3_det_infer.tar’\n",
            "\n",
            "en_PP-OCRv3_det_inf 100%[===================>]   3.82M  6.39MB/s    in 0.6s    \n",
            "\n",
            "2024-03-23 13:23:00 (6.39 MB/s) - ‘en_PP-OCRv3_det_infer.tar’ saved [4003840/4003840]\n",
            "\n"
          ]
        }
      ]
    },
    {
      "cell_type": "code",
      "source": [
        "# Download the PP-OCRv3 text recognition model https://paddleocr.bj.bcebos.com/PP-OCRv3/chinese/ch_PP-OCRv3_det_infer.tar && tar xf ch_PP-OCRv3_det_infer.tarand unzip it\n",
        "!wget https://paddleocr.bj.bcebos.com/PP-OCRv3/english/en_PP-OCRv3_rec_infer.tar && tar xf en_PP-OCRv3_rec_infer.tar\n"
      ],
      "metadata": {
        "colab": {
          "base_uri": "https://localhost:8080/"
        },
        "id": "pwWUV3C9atiD",
        "outputId": "8db6bbbc-07be-4707-827a-1ad5f17afb5d"
      },
      "execution_count": 10,
      "outputs": [
        {
          "output_type": "stream",
          "name": "stdout",
          "text": [
            "--2024-03-23 13:23:00--  https://paddleocr.bj.bcebos.com/PP-OCRv3/english/en_PP-OCRv3_rec_infer.tar\n",
            "Resolving paddleocr.bj.bcebos.com (paddleocr.bj.bcebos.com)... 36.110.192.178, 2409:8c04:1001:1203:0:ff:b0bb:4f27\n",
            "Connecting to paddleocr.bj.bcebos.com (paddleocr.bj.bcebos.com)|36.110.192.178|:443... connected.\n",
            "HTTP request sent, awaiting response... 200 OK\n",
            "Length: 9963520 (9.5M) [application/x-tar]\n",
            "Saving to: ‘en_PP-OCRv3_rec_infer.tar’\n",
            "\n",
            "en_PP-OCRv3_rec_inf 100%[===================>]   9.50M  15.7MB/s    in 0.6s    \n",
            "\n",
            "2024-03-23 13:23:01 (15.7 MB/s) - ‘en_PP-OCRv3_rec_infer.tar’ saved [9963520/9963520]\n",
            "\n"
          ]
        }
      ]
    },
    {
      "cell_type": "code",
      "source": [
        "# Download the PP-StructureV2 form recognition model and unzip it\n",
        "!wget https://paddleocr.bj.bcebos.com/ppstructure/models/slanet/en_ppstructure_mobile_v2.0_SLANet_infer.tar && tar xf en_ppstructure_mobile_v2.0_SLANet_infer.tar\n"
      ],
      "metadata": {
        "colab": {
          "base_uri": "https://localhost:8080/"
        },
        "id": "MzQ8PuBDbmDJ",
        "outputId": "171ee4df-a05b-4209-f77f-e8d75033d001"
      },
      "execution_count": 11,
      "outputs": [
        {
          "output_type": "stream",
          "name": "stdout",
          "text": [
            "--2024-03-23 13:23:01--  https://paddleocr.bj.bcebos.com/ppstructure/models/slanet/en_ppstructure_mobile_v2.0_SLANet_infer.tar\n",
            "Resolving paddleocr.bj.bcebos.com (paddleocr.bj.bcebos.com)... 36.110.192.178, 2409:8c04:1001:1203:0:ff:b0bb:4f27\n",
            "Connecting to paddleocr.bj.bcebos.com (paddleocr.bj.bcebos.com)|36.110.192.178|:443... connected.\n",
            "HTTP request sent, awaiting response... 200 OK\n",
            "Length: 10193408 (9.7M) [application/x-tar]\n",
            "Saving to: ‘en_ppstructure_mobile_v2.0_SLANet_infer.tar’\n",
            "\n",
            "en_ppstructure_mobi 100%[===================>]   9.72M  14.3MB/s    in 0.7s    \n",
            "\n",
            "2024-03-23 13:23:02 (14.3 MB/s) - ‘en_ppstructure_mobile_v2.0_SLANet_infer.tar’ saved [10193408/10193408]\n",
            "\n"
          ]
        }
      ]
    },
    {
      "cell_type": "code",
      "source": [
        "%cd .."
      ],
      "metadata": {
        "colab": {
          "base_uri": "https://localhost:8080/"
        },
        "id": "ftyqKpEydGCu",
        "outputId": "4c4f5cb9-ab74-4d14-ef26-3c8bb2d31463"
      },
      "execution_count": 12,
      "outputs": [
        {
          "output_type": "stream",
          "name": "stdout",
          "text": [
            "/content/PaddleOCR/ppstructure\n"
          ]
        }
      ]
    },
    {
      "cell_type": "code",
      "source": [
        "!python3 table/predict_table.py \\\n",
        "    --det_model_dir=inference/en_PP-OCRv3_det_infer \\\n",
        "    --rec_model_dir=inference/en_PP-OCRv3_rec_infer  \\\n",
        "    --table_model_dir=inference/en_ppstructure_mobile_v2.0_SLANet_infer \\\n",
        "    --rec_char_dict_path=../ppocr/utils/en_dict.txt \\\n",
        "    --table_char_dict_path=../ppocr/utils/dict/table_structure_dict.txt \\\n",
        "    --image_dir=/content/image00047.jpg \\\n",
        "    --output=/content/output/table"
      ],
      "metadata": {
        "colab": {
          "base_uri": "https://localhost:8080/"
        },
        "id": "tcEIMNQ7boOr",
        "outputId": "45964f56-9fb2-4231-e756-f47232fa507d"
      },
      "execution_count": 10,
      "outputs": [
        {
          "output_type": "stream",
          "name": "stdout",
          "text": [
            "E0323 13:49:44.969103  7713 analysis_config.cc:125] Please use PaddlePaddle with GPU version.\n",
            "E0323 13:49:45.467955  7713 analysis_config.cc:125] Please use PaddlePaddle with GPU version.\n",
            "E0323 13:49:45.752691  7713 analysis_config.cc:125] Please use PaddlePaddle with GPU version.\n",
            "E0323 13:49:46.374104  7713 analysis_config.cc:125] Please use PaddlePaddle with GPU version.\n",
            "[2024/03/23 13:49:47] ppocr INFO: [0/1] /content/image00047.jpg\n",
            "[2024/03/23 13:49:50] ppocr DEBUG: dt_boxes num : 181, elapse : 0.45834803581237793\n",
            "[2024/03/23 13:49:56] ppocr DEBUG: rec_res num  : 181, elapse : 6.265050411224365\n",
            "[2024/03/23 13:49:57] ppocr INFO: <html><body><table><thead><tr><td>Adjusted gross profit (Unaudited) in Emilionsexcep percentages</td><td>June 30, 2023</td><td>Three months ended March 31, 2023</td><td>June 30, 2022 June 30, 2023</td><td></td><td>Three months ended March 31, 2023</td><td>June 30, 2022</td><td>June 30, 2023</td><td>Three months ended March 31, 2023</td><td></td><td>June 30, 2022</td></tr></thead><tbody><tr><td></td><td></td><td>Consolidated</td><td></td><td></td><td>Premium</td><td></td><td></td><td>Ad-Supported</td><td></td><td></td></tr><tr><td>IFRS revenue IFRS cost of revenue</td><td>3.177 2.411</td><td>3,042 2.276</td><td>2.864 2.160</td><td>2,773 1,984</td><td>2.713 1,937</td><td>2,504 1.804</td><td></td><td>404</td><td>329</td><td>360</td></tr><tr><td>IFRS gross profit</td><td></td><td>766</td><td>704</td><td></td><td></td><td></td><td></td><td>427 23</td><td>339 -10</td><td>356 4</td></tr><tr><td>FRS gross margin</td><td>766 24.1%</td><td>25.2%</td><td>24.6 %</td><td>789 28.5 %</td><td>776 28.6 %</td><td>700 28.0 %</td><td></td><td>(5.7)%</td><td>(3.0)%</td><td>1.1%</td></tr><tr><td></td><td></td><td></td><td></td><td></td><td></td><td></td><td></td><td></td><td></td><td></td></tr><tr><td>Adjustments: Less: changes in prior period estimates for</td><td></td><td></td><td></td><td></td><td></td><td></td><td></td><td></td><td></td><td></td></tr><tr><td>rights holder liabilities</td><td>8</td><td>- -</td><td>(11 31 0</td><td>(3)</td><td>- -</td><td>(11</td><td></td><td>(5</td><td>- </td><td></td></tr><tr><td>Add: Car Thing charge Add: Employee severance and related</td><td></td><td></td><td></td><td></td><td></td><td>31 0)</td><td></td><td></td><td></td><td></td></tr><tr><td>charges Add: Impairmment charge on real estate</td><td>6 ()</td><td>3 (6</td><td>-</td><td>- </td><td>1 (</td><td>- -</td><td></td><td>6 (</td><td>2 </td><td></td></tr><tr><td>assets</td><td>7(2)</td><td>-</td><td>-</td><td></td><td>-</td><td></td><td></td><td>6 (2)</td><td></td><td></td></tr><tr><td>AddWr-ffof content assets nd conract termination and other costs</td><td>39 (3)</td><td>-</td><td></td><td></td><td>- 1</td><td></td><td></td><td>3 ()</td><td></td><td></td></tr><tr><td>Total adjustments</td><td>44</td><td>3</td><td>20</td><td>(2)</td><td></td><td>20</td><td></td><td>46</td><td>2</td><td>-</td></tr><tr><td>Adjusted gross profit(non-IFRS)</td><td>810</td><td>769</td><td>724</td><td>787</td><td>777</td><td>720</td><td></td><td>23</td><td>(8)</td><td>4</td></tr><tr><td>Adjusted gross margin (non-IFRS)</td><td>25.5 %</td><td>25.3 %</td><td>25.3 %</td><td>28.4 %</td><td>28.6 %</td><td>28.8 %</td><td></td><td>5.7%</td><td>(2.41%</td><td>1.1%</td></tr><tr><td>Adjusted operating loss</td><td></td><td></td><td></td><td></td><td></td><td></td><td></td><td></td><td></td><td></td></tr><tr><td>(Unaudited) in Emilions,except percentages)</td><td></td><td></td><td></td><td></td><td></td><td></td><td></td><td></td><td></td><td></td></tr><tr><td></td><td></td><td></td><td></td><td></td><td></td><td></td><td></td><td>Three months ended March 31, 2023</td><td></td><td>June 30, 2022</td></tr><tr><td>FRS operating loss</td><td></td><td></td><td></td><td></td><td></td><td></td><td>June 30, 2023 (247)</td><td>156)</td><td></td><td>(194)</td></tr><tr><td>Adjustments:</td><td></td><td></td><td></td><td></td><td></td><td></td><td></td><td></td><td></td><td></td></tr><tr><td>Less: changes in prior period estimates fo rights holder liabilties Add: Car Thing charge</td><td></td><td></td><td></td><td></td><td></td><td></td><td>(8)</td><td></td><td></td><td>11</td></tr><tr><td>Add: Employee severance and related charges</td><td></td><td></td><td></td><td></td><td></td><td></td><td>12 ()</td><td></td><td></td><td>31 ()</td></tr><tr><td>Add: Impairmment charge on real estate assets</td><td></td><td></td><td></td><td></td><td></td><td></td><td>90 (2</td><td></td><td>44 6</td><td>-</td></tr><tr><td>Add: Write-off of assets and contract termination and other costs</td><td></td><td></td><td></td><td></td><td></td><td></td><td>41 )</td><td></td><td>-</td><td></td></tr><tr><td>Total adjustments</td><td></td><td></td><td></td><td></td><td></td><td></td><td>135</td><td></td><td>44</td><td>20</td></tr><tr><td></td><td></td><td></td><td></td><td></td><td></td><td></td><td></td><td></td><td></td><td></td></tr><tr><td>Adjusted operating loss (non-IFRS)</td><td></td><td></td><td></td><td></td><td></td><td></td><td>112)</td><td></td><td>(112)</td><td>(174)</td></tr><tr><td>IFRS operating margin</td><td></td><td></td><td></td><td></td><td></td><td></td><td>(7.8)%</td><td></td><td>(5.1)%</td><td>(6.8)%</td></tr><tr><td>Adjusted operating margin (non-IFRS)</td><td></td><td></td><td></td><td></td><td></td><td></td><td>(3.5%</td><td></td><td>(3.7)%</td><td>(6.1)%</td></tr><tr><td>(1) Refiacts the charg recorded from discontinuing the production of CarThing</td><td></td><td></td><td></td><td></td><td></td><td></td><td></td><td></td><td></td><td></td></tr><tr><td>(2) Reflects non cash asset impaimant charges related to real estate optimization plan</td><td></td><td></td><td></td><td></td><td></td><td></td><td></td><td></td><td></td><td></td></tr><tr><td></td><td></td><td></td><td></td><td></td><td></td><td></td><td></td><td></td><td></td><td></td></tr><tr><td>tscnenwies ndn erinionndlaed cs incctinhiing our odcs cnen poftio 4 eflcts severan charges incurred primarily in connction with streamlining our podcast operations 5 Reflects severance charges incurred in connection with our workforce reduction plan</td><td></td><td></td><td></td><td></td><td></td><td></td><td></td><td></td><td></td><td>32</td></tr></tbody></table></body></html>\n",
            "[2024/03/23 13:49:57] ppocr INFO: excel saved to /content/output/table/image00047.xlsx\n",
            "[2024/03/23 13:49:57] ppocr INFO: Predict time : 10.238s\n"
          ]
        }
      ]
    },
    {
      "cell_type": "code",
      "source": [
        "!pwd"
      ],
      "metadata": {
        "colab": {
          "base_uri": "https://localhost:8080/"
        },
        "id": "MymwRAOvbvSF",
        "outputId": "e610ac9d-832f-457d-96a8-60a629758b41"
      },
      "execution_count": 14,
      "outputs": [
        {
          "output_type": "stream",
          "name": "stdout",
          "text": [
            "/content\n"
          ]
        }
      ]
    },
    {
      "cell_type": "code",
      "source": [],
      "metadata": {
        "id": "MzdDjM8xcgGb"
      },
      "execution_count": null,
      "outputs": []
    }
  ]
}