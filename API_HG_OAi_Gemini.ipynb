{
  "nbformat": 4,
  "nbformat_minor": 0,
  "metadata": {
    "colab": {
      "provenance": [],
      "gpuType": "T4",
      "authorship_tag": "ABX9TyNVDHpQY17KuV8XKCbNbp1Z",
      "include_colab_link": true
    },
    "kernelspec": {
      "name": "python3",
      "display_name": "Python 3"
    },
    "language_info": {
      "name": "python"
    },
    "accelerator": "GPU"
  },
  "cells": [
    {
      "cell_type": "markdown",
      "metadata": {
        "id": "view-in-github",
        "colab_type": "text"
      },
      "source": [
        "<a href=\"https://colab.research.google.com/github/rahulsm27/Colab_practicse/blob/main/API_HG_OAi_Gemini.ipynb\" target=\"_parent\"><img src=\"https://colab.research.google.com/assets/colab-badge.svg\" alt=\"Open In Colab\"/></a>"
      ]
    },
    {
      "cell_type": "code",
      "execution_count": 1,
      "metadata": {
        "id": "ViaRlhHzlGN5"
      },
      "outputs": [],
      "source": [
        "from google.colab import userdata\n",
        "\n",
        "import pandas as pd\n",
        "import numpy as np"
      ]
    },
    {
      "cell_type": "markdown",
      "source": [
        "HUGGING FACE"
      ],
      "metadata": {
        "id": "62vIHHIblxGJ"
      }
    },
    {
      "cell_type": "code",
      "source": [
        "\n",
        "token_hg = userdata.get('hugging')\n"
      ],
      "metadata": {
        "id": "ZrQQ5st7oT4i"
      },
      "execution_count": 5,
      "outputs": []
    },
    {
      "cell_type": "code",
      "source": [],
      "metadata": {
        "id": "L0RiKALvsQ29"
      },
      "execution_count": null,
      "outputs": []
    },
    {
      "cell_type": "code",
      "source": [],
      "metadata": {
        "id": "h-_QcoXUq5Cy"
      },
      "execution_count": null,
      "outputs": []
    },
    {
      "cell_type": "markdown",
      "source": [
        "OPEN AI API(GPT)"
      ],
      "metadata": {
        "id": "Hzhs10Kfl1bv"
      }
    },
    {
      "cell_type": "code",
      "source": [
        "token_oa = userdata.get('openai')\n"
      ],
      "metadata": {
        "id": "q30J8s_fpi5J"
      },
      "execution_count": null,
      "outputs": []
    },
    {
      "cell_type": "markdown",
      "source": [
        "GEMINI API(GEMINI)"
      ],
      "metadata": {
        "id": "5xLNw256l5VP"
      }
    },
    {
      "cell_type": "code",
      "source": [
        "token_gemini = userdata.get('gemini')"
      ],
      "metadata": {
        "id": "lywTPbSfl67D"
      },
      "execution_count": null,
      "outputs": []
    },
    {
      "cell_type": "code",
      "source": [],
      "metadata": {
        "id": "njehs3qUtdC0"
      },
      "execution_count": null,
      "outputs": []
    }
  ]
}